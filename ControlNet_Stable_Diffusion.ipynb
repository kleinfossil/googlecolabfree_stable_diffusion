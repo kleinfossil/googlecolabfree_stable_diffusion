{
  "nbformat": 4,
  "nbformat_minor": 0,
  "metadata": {
    "colab": {
      "provenance": [],
      "authorship_tag": "ABX9TyPlrMtV2cdIRyQ4FYdajBKa",
      "include_colab_link": true
    },
    "kernelspec": {
      "name": "python3",
      "display_name": "Python 3"
    },
    "language_info": {
      "name": "python"
    },
    "accelerator": "GPU",
    "gpuClass": "standard"
  },
  "cells": [
    {
      "cell_type": "markdown",
      "metadata": {
        "id": "view-in-github",
        "colab_type": "text"
      },
      "source": [
        "<a href=\"https://colab.research.google.com/github/kleinfossil/googlecolabfree_stable_diffusion/blob/main/ControlNet_Stable_Diffusion.ipynb\" target=\"_parent\"><img src=\"https://colab.research.google.com/assets/colab-badge.svg\" alt=\"Open In Colab\"/></a>"
      ]
    },
    {
      "cell_type": "code",
      "execution_count": null,
      "metadata": {
        "id": "VWX2VWcF6hrM"
      },
      "outputs": [],
      "source": [
        "\"\"\"\n",
        "ControlNet uses a conda environment. This is quite challenging to setup in google colab. \n",
        "It is not possible to setup and activete a conda environment via iphython. \n",
        "Instead it is required to run the environment in a bash shell. This again denies options like code highlighting and so on.\n",
        "Condacolab supports an easy setup of a conda environment. However this works only for the base environment. Also it can not change the python version. \n",
        "As ControlNet requires an older python version, this requirement will be just ignored. \n",
        "The following will setup the CondaColab which will also restart the colab kernel. Therefore this cell need to be executed seperatly. \n",
        "If there is anybody who has a better idea let me know. \n",
        "\"\"\"\n",
        "from IPython.display import clear_output\n",
        "!pip install -q condacolab\n",
        "import condacolab\n",
        "condacolab.install()\n",
        "clear_output()"
      ]
    },
    {
      "cell_type": "code",
      "source": [
        "# Execution Time: 7m57s\n",
        "# Disk Space after execution: 34.1 / 107.7\n",
        "\n",
        "# Check if condacolab is installed correctly\n",
        "from IPython.display import clear_output\n",
        "import condacolab\n",
        "condacolab.check()\n",
        "\n",
        "# Download ControlNet Git\n",
        "from IPython.display import clear_output\n",
        "from IPython.utils import capture\n",
        "import os\n",
        "\n",
        "with capture.capture_output() as cap:\n",
        "  if os.path.exists(\"/content/ControlNet\"):\n",
        "    %cd /content/ControlNet\n",
        "    !git pull https://github.com/lllyasviel/ControlNet.git\n",
        "  else:\n",
        "      !git clone https://github.com/lllyasviel/ControlNet.git\n",
        "print(cap)\n",
        "clear_output()\n",
        "\n",
        "\"\"\"\n",
        "Adjust environment.yaml. This might become a point of failure.\n",
        "If ther is any dependency error, then it is probably because of these changes.\n",
        "\"\"\"\n",
        "# Replace the environment name with base. condacolab works with base environment only.\n",
        "!sed -i -e 's/name: control/name: base/g' /content/ControlNet/environment.yaml\n",
        "# Delete the python requirement\n",
        "!sed -i -e 's/  - python=3.8.5//g' /content/ControlNet/environment.yaml\n",
        "# Delete cudatoolkit\n",
        "!sed -i -e 's/  - cudatoolkit=11.3//g' /content/ControlNet/environment.yaml\n",
        "# Clear empyt lines\n",
        "!sed '/^$/d' /content/ControlNet/environment.yaml\n",
        "clear_output()\n",
        "\n",
        "\"\"\"\n",
        "ControlNet does not support the share launch option out of the box.\n",
        "A quick and dirty fix is to replace the launch call in the file.  \n",
        "\"\"\"\n",
        "!sed -i -e \"s/block.lauch(server_name='0.0.0.0')/block.lauch(server_name='0.0.0.0', share=True)/g\" /content/ControlNet/gradio_scribble2image.py\n",
        "\n",
        "# Update the base environment and return error code\n",
        "!mamba env update -f /content/ControlNet/environment.yaml\n",
        "clear_output()"
      ],
      "metadata": {
        "id": "ppOt_1dMR_qG"
      },
      "execution_count": null,
      "outputs": []
    },
    {
      "cell_type": "code",
      "source": [
        "!pip install huggingface_hub\n",
        "from huggingface_hub import hf_hub_download\n",
        "\n",
        "def download_files():\n",
        "  # annotator files\n",
        "  hf_hub_download(repo_id=\"lllyasviel/ControlNet\", filename=\"annotator/ckpts/body_pose_model.pth\", cache_dir=\"/content/ControlNet_Hugging_Downloads\")\n",
        "  hf_hub_download(repo_id=\"lllyasviel/ControlNet\", filename=\"annotator/ckpts/dpt_hybrid-midas-501f0c75.pt\", cache_dir=\"/content/ControlNet_Hugging_Downloads\")\n",
        "  hf_hub_download(repo_id=\"lllyasviel/ControlNet\", filename=\"annotator/ckpts/hand_pose_model.pth\", cache_dir=\"/content/ControlNet_Hugging_Downloads\")\n",
        "  hf_hub_download(repo_id=\"lllyasviel/ControlNet\", filename=\"annotator/ckpts/mlsd_large_512_fp32.pth\", cache_dir=\"/content/ControlNet_Hugging_Downloads\")\n",
        "  hf_hub_download(repo_id=\"lllyasviel/ControlNet\", filename=\"annotator/ckpts/mlsd_tiny_512_fp32.pth\", cache_dir=\"/content/ControlNet_Hugging_Downloads\")\n",
        "  hf_hub_download(repo_id=\"lllyasviel/ControlNet\", filename=\"annotator/ckpts/network-bsds500.pth\", cache_dir=\"/content/ControlNet_Hugging_Downloads\")\n",
        "  hf_hub_download(repo_id=\"lllyasviel/ControlNet\", filename=\"annotator/ckpts/upernet_global_small.pth\", cache_dir=\"/content/ControlNet_Hugging_Downloads\")\n",
        "\n",
        "  # models\n",
        "  hf_hub_download(repo_id=\"lllyasviel/ControlNet\", filename=\"models/control_sd15_scribble.pth\", cache_dir=\"/content/ControlNet_Hugging_Downloads\")\n",
        "\n",
        "\n",
        "%mkdir -p /content/ControlNet_Hugging_Downloads\n",
        "download_files()\n",
        "clear_output()"
      ],
      "metadata": {
        "id": "44s2xCblkQMw"
      },
      "execution_count": 3,
      "outputs": []
    },
    {
      "cell_type": "code",
      "source": [
        "# Execution time: 1m 42s\n",
        "from distutils.dir_util import copy_tree\n",
        "copy_tree(\"/content/ControlNet_Hugging_Downloads/models--lllyasviel--ControlNet/snapshots/703a9194e2224a498d610a8384aa7edbb6dc24e3/annotator/\", \"/content/ControlNet/annotator/\")\n",
        "copy_tree(\"/content/ControlNet_Hugging_Downloads/models--lllyasviel--ControlNet/snapshots/703a9194e2224a498d610a8384aa7edbb6dc24e3/models/\", \"/content/ControlNet/models/\")\n",
        "clear_output()"
      ],
      "metadata": {
        "id": "XO0qkh1QJVsO"
      },
      "execution_count": null,
      "outputs": []
    },
    {
      "cell_type": "code",
      "source": [
        "%cd /content/ControlNet/\n",
        "!python gradio_scribble2image.py --share"
      ],
      "metadata": {
        "id": "VGIb25zLwvKm"
      },
      "execution_count": null,
      "outputs": []
    }
  ]
}